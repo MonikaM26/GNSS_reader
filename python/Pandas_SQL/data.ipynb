{
 "cells": [
  {
   "cell_type": "code",
   "execution_count": 12,
   "metadata": {},
   "outputs": [
    {
     "name": "stdout",
     "output_type": "stream",
     "text": [
      "          UNITID  OPEID6                    INSTNM CONTROL  MAIN  CIPCODE  \\\n",
      "0       100654.0    1002  Alabama A & M University  Public     1      100   \n",
      "1       100654.0    1002  Alabama A & M University  Public     1      101   \n",
      "2       100654.0    1002  Alabama A & M University  Public     1      109   \n",
      "3       100654.0    1002  Alabama A & M University  Public     1      110   \n",
      "4       100654.0    1002  Alabama A & M University  Public     1      110   \n",
      "...          ...     ...                       ...     ...   ...      ...   \n",
      "216633       NaN   42817           Compton College  Public     1     5109   \n",
      "216634       NaN   42817           Compton College  Public     1     5111   \n",
      "216635       NaN   42817           Compton College  Public     1     5138   \n",
      "216636       NaN   42817           Compton College  Public     1     5202   \n",
      "216637       NaN   42817           Compton College  Public     1     5203   \n",
      "\n",
      "                                                  CIPDESC  CREDLEV  \\\n",
      "0                                   Agriculture, General.        3   \n",
      "1                   Agricultural Business and Management.        3   \n",
      "2                                        Animal Sciences.        3   \n",
      "3                            Food Science and Technology.        3   \n",
      "4                            Food Science and Technology.        5   \n",
      "...                                                   ...      ...   \n",
      "216633  Allied Health Diagnostic, Intervention, and Tr...        2   \n",
      "216634               Health/Medical Preparatory Programs.        2   \n",
      "216635  Registered Nursing, Nursing Administration, Nu...        2   \n",
      "216636  Business Administration, Management and Operat...        2   \n",
      "216637                   Accounting and Related Services.        2   \n",
      "\n",
      "                  CREDDESC              COUNT         DEBTMEDIAN  \\\n",
      "0        Bachelor’s Degree  PrivacySuppressed  PrivacySuppressed   \n",
      "1        Bachelor’s Degree  PrivacySuppressed  PrivacySuppressed   \n",
      "2        Bachelor’s Degree  PrivacySuppressed  PrivacySuppressed   \n",
      "3        Bachelor’s Degree  PrivacySuppressed  PrivacySuppressed   \n",
      "4          Master's Degree                 15  PrivacySuppressed   \n",
      "...                    ...                ...                ...   \n",
      "216633  Associate's Degree  PrivacySuppressed  PrivacySuppressed   \n",
      "216634  Associate's Degree  PrivacySuppressed  PrivacySuppressed   \n",
      "216635  Associate's Degree  PrivacySuppressed  PrivacySuppressed   \n",
      "216636  Associate's Degree  PrivacySuppressed  PrivacySuppressed   \n",
      "216637  Associate's Degree  PrivacySuppressed  PrivacySuppressed   \n",
      "\n",
      "          DEBTPAYMENT10YR           DEBTMEAN       TITLEIVCOUNT  \\\n",
      "0       PrivacySuppressed  PrivacySuppressed  PrivacySuppressed   \n",
      "1       PrivacySuppressed  PrivacySuppressed  PrivacySuppressed   \n",
      "2       PrivacySuppressed              31066  PrivacySuppressed   \n",
      "3       PrivacySuppressed  PrivacySuppressed  PrivacySuppressed   \n",
      "4       PrivacySuppressed              61527  PrivacySuppressed   \n",
      "...                   ...                ...                ...   \n",
      "216633  PrivacySuppressed  PrivacySuppressed  PrivacySuppressed   \n",
      "216634  PrivacySuppressed  PrivacySuppressed  PrivacySuppressed   \n",
      "216635  PrivacySuppressed  PrivacySuppressed  PrivacySuppressed   \n",
      "216636  PrivacySuppressed  PrivacySuppressed  PrivacySuppressed   \n",
      "216637  PrivacySuppressed  PrivacySuppressed  PrivacySuppressed   \n",
      "\n",
      "            EARNINGSCOUNT        MD_EARN_WNE  IPEDSCOUNT1  IPEDSCOUNT2  \n",
      "0       PrivacySuppressed  PrivacySuppressed          4.0          NaN  \n",
      "1       PrivacySuppressed  PrivacySuppressed          NaN          NaN  \n",
      "2       PrivacySuppressed  PrivacySuppressed          7.0          6.0  \n",
      "3       PrivacySuppressed  PrivacySuppressed          5.0          8.0  \n",
      "4       PrivacySuppressed  PrivacySuppressed          9.0         10.0  \n",
      "...                   ...                ...          ...          ...  \n",
      "216633  PrivacySuppressed  PrivacySuppressed          NaN          NaN  \n",
      "216634  PrivacySuppressed  PrivacySuppressed          NaN          NaN  \n",
      "216635  PrivacySuppressed  PrivacySuppressed          NaN          NaN  \n",
      "216636  PrivacySuppressed  PrivacySuppressed          NaN          NaN  \n",
      "216637  PrivacySuppressed  PrivacySuppressed          NaN          NaN  \n",
      "\n",
      "[216638 rows x 18 columns]\n"
     ]
    }
   ],
   "source": [
    "import pandas as pd\n",
    "\n",
    "path = 'C:/Repositories/My_projects/python/Pandas_SQL'\n",
    "file = path + '/Most-Recent-Field-Data-Elements_.csv'\n",
    "file2 = path+'/Most-Recent-Field-Data-Elements.csv'\n",
    "\n",
    "df1 = pd.read_csv(file, sep=';', encoding='cp1252')\n",
    "print(df1)\n",
    "# df2 = pd.read_csv(file2, sep=',')"
   ]
  }
 ],
 "metadata": {
  "kernelspec": {
   "display_name": "Python 3",
   "language": "python",
   "name": "python3"
  },
  "language_info": {
   "codemirror_mode": {
    "name": "ipython",
    "version": 3
   },
   "file_extension": ".py",
   "mimetype": "text/x-python",
   "name": "python",
   "nbconvert_exporter": "python",
   "pygments_lexer": "ipython3",
   "version": "3.8.10"
  },
  "orig_nbformat": 4
 },
 "nbformat": 4,
 "nbformat_minor": 2
}
